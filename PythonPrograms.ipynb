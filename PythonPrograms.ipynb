{
 "cells": [
  {
   "cell_type": "code",
   "execution_count": 1,
   "id": "d286ab8c-0c55-4a02-bbbb-2b874b8647f5",
   "metadata": {},
   "outputs": [
    {
     "name": "stdout",
     "output_type": "stream",
     "text": [
      "[1, 4, 9, 16]\n"
     ]
    }
   ],
   "source": [
    "def apply_function(func,nums):\n",
    "    return [func(x) for x in nums]\n",
    "\n",
    "result = apply_function(lambda x : x*x ,[1,2,3,4])\n",
    "print(result)"
   ]
  },
  {
   "cell_type": "code",
   "execution_count": 13,
   "id": "7b43fc19-a0c6-44e4-b7cc-ca6a67684ec1",
   "metadata": {},
   "outputs": [
    {
     "name": "stdout",
     "output_type": "stream",
     "text": [
      "name:akhil\n",
      "age:22\n"
     ]
    }
   ],
   "source": [
    "def display_info(**kwargs):\n",
    "    for key, values in kwargs.items():\n",
    "        print(f\"{key}:{values}\")\n",
    "\n",
    "display_info(name=\"akhil\",age=22)\n"
   ]
  },
  {
   "cell_type": "code",
   "execution_count": 29,
   "id": "ccb0b4bc-cb52-46a7-8da4-1bcdac58e6b0",
   "metadata": {},
   "outputs": [
    {
     "name": "stdout",
     "output_type": "stream",
     "text": [
      "20.0\n"
     ]
    }
   ],
   "source": [
    "def average(*numbers):\n",
    "    if numbers:\n",
    "        return sum(numbers)/len(numbers)\n",
    "    else:\n",
    "        return 0\n",
    "        \n",
    "print(average(10,20,30))\n",
    "\n"
   ]
  },
  {
   "cell_type": "code",
   "execution_count": 35,
   "id": "abbcb34a-df29-4cac-82ef-9d06b5ab45cc",
   "metadata": {},
   "outputs": [
    {
     "name": "stdout",
     "output_type": "stream",
     "text": [
      "[1, 22, 2, 3, 4, 5]\n",
      "popped element:  5\n",
      "[1, 2, 3, 4]\n"
     ]
    }
   ],
   "source": [
    "def modify_list():\n",
    "    listt1=[1,2,3,4]\n",
    "    listt1.append(5)\n",
    "    listt1.insert(1,22)\n",
    "    print(listt1)\n",
    "    listt1.remove(22)\n",
    "    popped_element=listt1.pop()\n",
    "    print(\"popped element: \",popped_element)\n",
    "    print(listt1)\n",
    "\n",
    "modify_list()\n",
    "    "
   ]
  },
  {
   "cell_type": "code",
   "execution_count": 39,
   "id": "fe851aac-eb4c-4ac0-ae89-ae1118765b98",
   "metadata": {},
   "outputs": [
    {
     "name": "stdout",
     "output_type": "stream",
     "text": [
      "{1: 1, 2: 1, 3: 2, 4: 1, 5: 3, 6: 2, 7: 2, 8: 5}\n"
     ]
    }
   ],
   "source": [
    "from collections import Counter\n",
    "def count_occurance(my_list):\n",
    "    return dict(Counter(my_list))\n",
    "\n",
    "my_list=[1,2,3,3,4,5,5,5,6,6,7,7,8,8,8,8,8]\n",
    "print(count_occurance(my_list))"
   ]
  },
  {
   "cell_type": "code",
   "execution_count": 41,
   "id": "34961dde-005c-4756-95a3-6b471839909a",
   "metadata": {},
   "outputs": [
    {
     "name": "stdout",
     "output_type": "stream",
     "text": [
      "[1, 2, 3, 4, 33, 5]\n"
     ]
    }
   ],
   "source": [
    "def remove_duplicates(my_list):\n",
    "    return list(set(my_list))\n",
    "\n",
    "my_list=[1,2,2,3,3,33,4,5,5,5]\n",
    "print(remove_duplicates(my_list))"
   ]
  },
  {
   "cell_type": "code",
   "execution_count": 45,
   "id": "60f4e186-fd5d-4d90-a4db-2de0561bbbd4",
   "metadata": {},
   "outputs": [
    {
     "name": "stdout",
     "output_type": "stream",
     "text": [
      "musko\n"
     ]
    }
   ],
   "source": [
    "def find_index(my_list,value):\n",
    "    return my_list.index(value) if value in my_list else \"musko\"\n",
    "\n",
    "my_list=[1,2,3,4,5,6,7,8,9]\n",
    "print(find_index(my_list,30))"
   ]
  },
  {
   "cell_type": "code",
   "execution_count": 57,
   "id": "007431b5-6437-457f-9ba8-b80206bea3e8",
   "metadata": {},
   "outputs": [
    {
     "name": "stdout",
     "output_type": "stream",
     "text": [
      "[5, 4, 3]\n"
     ]
    }
   ],
   "source": [
    "def reverse_list(lst):\n",
    "    return lst[-1:-4:-1]\n",
    "\n",
    "lst=[1,2,3,4,5]\n",
    "print(reverse_list(lst))\n"
   ]
  },
  {
   "cell_type": "code",
   "execution_count": 59,
   "id": "7df87db2-bf48-4ae1-bf78-8d0491168164",
   "metadata": {},
   "outputs": [
    {
     "name": "stdout",
     "output_type": "stream",
     "text": [
      "(1, 2, 3, 4, 2, 3, 4, 5) (1, 2, 3, 4, 1, 2, 3, 4, 1, 2, 3, 4)\n"
     ]
    }
   ],
   "source": [
    "def concate_and_repeat(tpl1,tpl2,repeat_count):\n",
    "    concate=tpl1 + tpl2\n",
    "    repeat=tpl1*repeat_count\n",
    "    return concate,repeat\n",
    "\n",
    "tpl1=(1,2,3,4)\n",
    "tpl2=(2,3,4,5)\n",
    "concate,repeat=concate_and_repeat(tpl1,tpl2,3)\n",
    "print(concate,repeat)"
   ]
  },
  {
   "cell_type": "code",
   "execution_count": 15,
   "id": "9c54f6bb-0a9f-4621-a976-b8b502e068d3",
   "metadata": {},
   "outputs": [
    {
     "name": "stdin",
     "output_type": "stream",
     "text": [
      "range: 3\n",
      "name: hh\n",
      "score: 21\n",
      "name: ff\n",
      "score: 22\n",
      "name: dd\n",
      "score: 22\n"
     ]
    },
    {
     "name": "stdout",
     "output_type": "stream",
     "text": [
      "[21.0, 22.0]\n",
      "22.0\n",
      "['dd', 'ff']\n",
      "dd\n",
      "ff\n"
     ]
    }
   ],
   "source": [
    "students=[]\n",
    "for i in range(int(input(\"range:\"))):\n",
    "    name = input(\"name:\")\n",
    "    score = float(input(\"score:\"))\n",
    "    students.append([name,score])\n",
    "x=sorted(set([score for name,score in students]))\n",
    "print(x)\n",
    "second_lowest=x[1]\n",
    "print(second_lowest)\n",
    "y=sorted([name for name,score in students if score==second_lowest])\n",
    "print(y)\n",
    "for names in y:\n",
    "    print(names)\n",
    "        "
   ]
  },
  {
   "cell_type": "code",
   "execution_count": 21,
   "id": "3d934804-6d3d-400c-b6ca-5c70c02360c7",
   "metadata": {},
   "outputs": [
    {
     "name": "stdin",
     "output_type": "stream",
     "text": [
      " 3\n",
      "name:  satya\n",
      "name:  akhil\n",
      "name:  venkat\n",
      "query_name: venkat\n"
     ]
    }
   ],
   "source": [
    "n = int(input())\n",
    "student_marks = {}\n",
    "for _ in range(n):\n",
    "    name, *line = input(\"name: \").split()\n",
    "    scores = list(map(float, line))\n",
    "    student_marks[name] = scores\n",
    "query_name = input(\"query_name:\")"
   ]
  },
  {
   "cell_type": "code",
   "execution_count": 1,
   "id": "8cd1f256-90ad-4bb9-a04c-5b468bdc2bc7",
   "metadata": {},
   "outputs": [
    {
     "name": "stdout",
     "output_type": "stream",
     "text": [
      "Hello\n",
      "Gateway\n"
     ]
    }
   ],
   "source": [
    "class employee:\n",
    "    company=\"Gateway\"\n",
    "    def __init__(self):\n",
    "        print(\"Hello\")\n",
    "    def message(self):\n",
    "        print(\"Welcome\")\n",
    "emp1=employee()\n",
    "print(emp1.company)"
   ]
  },
  {
   "cell_type": "code",
   "execution_count": 3,
   "id": "dc98f812-03fb-4347-a459-3d179897f696",
   "metadata": {},
   "outputs": [
    {
     "name": "stdout",
     "output_type": "stream",
     "text": [
      "Hi\n"
     ]
    }
   ],
   "source": [
    "def __init__():\n",
    "    return(\"Hi\")\n",
    "emp1= __init__()\n",
    "print(emp1)\n"
   ]
  },
  {
   "cell_type": "code",
   "execution_count": 5,
   "id": "0f7ed1d3-4062-4f74-9e78-8f3548dd06fb",
   "metadata": {},
   "outputs": [
    {
     "name": "stdout",
     "output_type": "stream",
     "text": [
      "Person is 23 and age is Akhil\n"
     ]
    }
   ],
   "source": [
    "class person:\n",
    "    def __init__(self,name,age):\n",
    "        self.name = name\n",
    "        self.age = age\n",
    "    def display(self):\n",
    "        print(f\"Person is {self.name} and age is {self.age}\")\n",
    "p = person(23,\"Akhil\")\n",
    "p.display()"
   ]
  },
  {
   "cell_type": "code",
   "execution_count": 7,
   "id": "7377445c-abe8-4973-8e7c-679a231a7fea",
   "metadata": {},
   "outputs": [
    {
     "name": "stdout",
     "output_type": "stream",
     "text": [
      "Akhil\n"
     ]
    }
   ],
   "source": [
    "class person:\n",
    "    def __init__(self,name,age):\n",
    "        self.name = name\n",
    "        self.age = age\n",
    "\n",
    "x=person(\"Akhil\",22)\n",
    "print(x.name)"
   ]
  },
  {
   "cell_type": "code",
   "execution_count": 9,
   "id": "21c2e644-c8c1-4d29-b976-f1693f73c22f",
   "metadata": {},
   "outputs": [
    {
     "name": "stdout",
     "output_type": "stream",
     "text": [
      "color is red\n",
      "size is 22\n"
     ]
    }
   ],
   "source": [
    "class fruit:\n",
    "    def color(self):\n",
    "        print(\"color is red\")\n",
    "class apple(fruit):\n",
    "    def size(self):\n",
    "        print(\"size is 22\")\n",
    "\n",
    "\n",
    "f=apple()\n",
    "f.color()\n",
    "f.size()"
   ]
  },
  {
   "cell_type": "code",
   "execution_count": 11,
   "id": "51768e29-8d0e-4a6c-b1c1-1d7e08c7d0dd",
   "metadata": {},
   "outputs": [
    {
     "name": "stdout",
     "output_type": "stream",
     "text": [
      " my name is Akhil and age is 22\n",
      " my name is Akhil and age is 20\n",
      "my grade is 30\n"
     ]
    }
   ],
   "source": [
    "class Person:\n",
    "    def __init__(self,name,age):\n",
    "        self.name = name\n",
    "        self.age = age\n",
    "    def say_hello(self):\n",
    "        print(f\" my name is {self.name} and age is {self.age}\")\n",
    "\n",
    "class student(Person):\n",
    "    def __init__(self,name,age,grade):\n",
    "        super().__init__(name,age)\n",
    "        self.grade = grade\n",
    "    def say_hello(self):\n",
    "        super().say_hello()\n",
    "        print(f\"my grade is {self.grade}\")\n",
    "\n",
    "person=Person(\"Akhil\",22)\n",
    "person.say_hello()\n",
    "\n",
    "student=student(\"Akhil\",20,30)\n",
    "student.say_hello()"
   ]
  },
  {
   "cell_type": "code",
   "execution_count": 13,
   "id": "301fea71-270b-4d1c-8a99-be5436d09e98",
   "metadata": {},
   "outputs": [
    {
     "name": "stdout",
     "output_type": "stream",
     "text": [
      "Hi parent\n",
      "hi child1\n",
      "hi child2\n",
      "Hi parent\n"
     ]
    }
   ],
   "source": [
    "#hirarchical inheritance\n",
    "class Parent:\n",
    "    def fun1(self):\n",
    "        print(\"Hi parent\")\n",
    "class child1(Parent):\n",
    "    def fun2(self):\n",
    "        print(\"hi child1\")\n",
    "class child2(Parent):\n",
    "    def fun3(self):\n",
    "        print(\"hi child2\")\n",
    "c1=child1()\n",
    "c1.fun1()\n",
    "c1.fun2()\n",
    "\n",
    "c2=child2()\n",
    "c2.fun3()\n",
    "c2.fun1()"
   ]
  },
  {
   "cell_type": "code",
   "execution_count": 15,
   "id": "6c8c1cfa-ac11-40b8-b539-b29725c8363b",
   "metadata": {},
   "outputs": [
    {
     "name": "stdout",
     "output_type": "stream",
     "text": [
      "child1\n",
      "parent1\n",
      "child2\n"
     ]
    }
   ],
   "source": [
    "class parent1:\n",
    "    def fun1(self):\n",
    "        print(\"parent1\")\n",
    "class parent2:\n",
    "    def fun2(self):\n",
    "        print(\"parent2\")\n",
    "class child1(parent1):\n",
    "    def fun3(self):\n",
    "        print(\"child1\")\n",
    "class child2(child1,parent2):\n",
    "    def fun4(self):\n",
    "        print(\"child2\")\n",
    "\n",
    "t1=child1()\n",
    "t2=child2()\n",
    "t1.fun3()\n",
    "t1.fun1()\n",
    "t2.fun4()"
   ]
  },
  {
   "cell_type": "code",
   "execution_count": null,
   "id": "dd2d5fdd-ccef-4c8c-8ef4-1bd070f012bd",
   "metadata": {},
   "outputs": [],
   "source": []
  }
 ],
 "metadata": {
  "kernelspec": {
   "display_name": "Python [conda env:base] *",
   "language": "python",
   "name": "conda-base-py"
  },
  "language_info": {
   "codemirror_mode": {
    "name": "ipython",
    "version": 3
   },
   "file_extension": ".py",
   "mimetype": "text/x-python",
   "name": "python",
   "nbconvert_exporter": "python",
   "pygments_lexer": "ipython3",
   "version": "3.12.7"
  }
 },
 "nbformat": 4,
 "nbformat_minor": 5
}
