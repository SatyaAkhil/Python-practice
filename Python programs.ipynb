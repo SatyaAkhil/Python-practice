{
 "cells": [
  {
   "cell_type": "code",
   "execution_count": 37,
   "id": "6c7bd275-3026-4e53-a781-19afb68e83bd",
   "metadata": {},
   "outputs": [
    {
     "name": "stdout",
     "output_type": "stream",
     "text": [
      "Hello\n",
      "Gateway\n"
     ]
    }
   ],
   "source": [
    "class employee:\n",
    "    company=\"Gateway\"\n",
    "    def __init__(self):\n",
    "        print(\"Hello\")\n",
    "    def message(self):\n",
    "        print(\"Welcome\")\n",
    "emp1=employee()\n",
    "print(emp1.company)"
   ]
  },
  {
   "cell_type": "code",
   "execution_count": 25,
   "id": "9a16137f-f20b-4168-801b-a049936ccba4",
   "metadata": {},
   "outputs": [
    {
     "name": "stdout",
     "output_type": "stream",
     "text": [
      "Hi\n"
     ]
    }
   ],
   "source": [
    "def __init__():\n",
    "    return(\"Hi\")\n",
    "emp1= __init__()\n",
    "print(emp1)"
   ]
  },
  {
   "cell_type": "code",
   "execution_count": 89,
   "id": "2d831c03-5104-4c86-b592-cd7696fc91c4",
   "metadata": {},
   "outputs": [
    {
     "name": "stdout",
     "output_type": "stream",
     "text": [
      "Person is 23 and age is Rohit\n"
     ]
    }
   ],
   "source": [
    "class person:\n",
    "    def __init__(self,name,age):\n",
    "        self.name = name\n",
    "        self.age = age\n",
    "    def display(self):\n",
    "        print(f\"Person is {self.name} and age is {self.age}\")\n",
    "p = person(23,\"Rohit\")\n",
    "p.display()"
   ]
  },
  {
   "cell_type": "code",
   "execution_count": 79,
   "id": "f9d52796-d536-46c8-a1a1-8295611e8715",
   "metadata": {},
   "outputs": [
    {
     "name": "stdout",
     "output_type": "stream",
     "text": [
      "rohit\n"
     ]
    }
   ],
   "source": [
    "class person:\n",
    "    def __init__(self,name,age):\n",
    "        self.name = name\n",
    "        self.age = age\n",
    "\n",
    "x=person(\"rohit\",22)\n",
    "print(x.name)"
   ]
  },
  {
   "cell_type": "code",
   "execution_count": 1,
   "id": "82fd2bde-c407-41a0-abba-ef90606a9822",
   "metadata": {},
   "outputs": [
    {
     "name": "stdout",
     "output_type": "stream",
     "text": [
      "color is red\n",
      "size is 22\n"
     ]
    }
   ],
   "source": [
    "class fruit:\n",
    "    def color(self):\n",
    "        print(\"color is red\")\n",
    "class apple(fruit):\n",
    "    def size(self):\n",
    "        print(\"size is 22\")\n",
    "\n",
    "\n",
    "f=apple()\n",
    "f.color()\n",
    "f.size()"
   ]
  },
  {
   "cell_type": "code",
   "execution_count": 15,
   "id": "3000593c-fa15-4ee2-9ad7-43d367b9661d",
   "metadata": {},
   "outputs": [
    {
     "name": "stdout",
     "output_type": "stream",
     "text": [
      " my name is rohit and age is 24\n",
      " my name is rohit and age is 20\n",
      "my grade is 30\n"
     ]
    }
   ],
   "source": [
    "class Person:\n",
    "    def __init__(self,name,age):\n",
    "        self.name = name\n",
    "        self.age = age\n",
    "    def say_hello(self):\n",
    "        print(f\" my name is {self.name} and age is {self.age}\")\n",
    "\n",
    "class student(Person):\n",
    "    def __init__(self,name,age,grade):\n",
    "        super().__init__(name,age)\n",
    "        self.grade = grade\n",
    "    def say_hello(self):\n",
    "        super().say_hello()\n",
    "        print(f\"my grade is {self.grade}\")\n",
    "\n",
    "person=Person(\"rohit\",24)\n",
    "person.say_hello()\n",
    "\n",
    "student=student(\"rohit\",20,30)\n",
    "student.say_hello()"
   ]
  },
  {
   "cell_type": "code",
   "execution_count": 25,
   "id": "eae73857-17dc-4907-ae62-e5439ba6f3c2",
   "metadata": {},
   "outputs": [
    {
     "name": "stdout",
     "output_type": "stream",
     "text": [
      "Hi parent\n",
      "hi child1\n",
      "hi child2\n",
      "Hi parent\n"
     ]
    }
   ],
   "source": [
    "#hirarchical inheritance\n",
    "class Parent:\n",
    "    def fun1(self):\n",
    "        print(\"Hi parent\")\n",
    "class child1(Parent):\n",
    "    def fun2(self):\n",
    "        print(\"hi child1\")\n",
    "class child2(Parent):\n",
    "    def fun3(self):\n",
    "        print(\"hi child2\")\n",
    "c1=child1()\n",
    "c1.fun1()\n",
    "c1.fun2()\n",
    "\n",
    "c2=child2()\n",
    "c2.fun3()\n",
    "c2.fun1()"
   ]
  },
  {
   "cell_type": "code",
   "execution_count": 35,
   "id": "11085dc8-3d49-4b45-a748-e8c8fbdebe58",
   "metadata": {},
   "outputs": [
    {
     "name": "stdout",
     "output_type": "stream",
     "text": [
      "child1\n",
      "parent1\n",
      "child2\n"
     ]
    }
   ],
   "source": [
    "class parent1:\n",
    "    def fun1(self):\n",
    "        print(\"parent1\")\n",
    "class parent2:\n",
    "    def fun2(self):\n",
    "        print(\"parent2\")\n",
    "class child1(parent1):\n",
    "    def fun3(self):\n",
    "        print(\"child1\")\n",
    "class child2(child1,parent2):\n",
    "    def fun4(self):\n",
    "        print(\"child2\")\n",
    "\n",
    "t1=child1()\n",
    "t2=child2()\n",
    "t1.fun3()\n",
    "t1.fun1()\n",
    "t2.fun4()\n"
   ]
  },
  {
   "cell_type": "code",
   "execution_count": null,
   "id": "ee99ba48-cb29-49b3-b892-4dd8968c3439",
   "metadata": {},
   "outputs": [],
   "source": []
  }
 ],
 "metadata": {
  "kernelspec": {
   "display_name": "Python 3 (ipykernel)",
   "language": "python",
   "name": "python3"
  },
  "language_info": {
   "codemirror_mode": {
    "name": "ipython",
    "version": 3
   },
   "file_extension": ".py",
   "mimetype": "text/x-python",
   "name": "python",
   "nbconvert_exporter": "python",
   "pygments_lexer": "ipython3",
   "version": "3.12.7"
  }
 },
 "nbformat": 4,
 "nbformat_minor": 5
}
